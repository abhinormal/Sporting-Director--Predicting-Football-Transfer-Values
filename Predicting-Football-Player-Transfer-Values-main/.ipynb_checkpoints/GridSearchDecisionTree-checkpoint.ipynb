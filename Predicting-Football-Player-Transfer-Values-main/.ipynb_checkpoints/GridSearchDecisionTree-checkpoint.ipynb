{
 "cells": [
  {
   "cell_type": "markdown",
   "metadata": {},
   "source": [
    "# Decision Tree Modeling"
   ]
  },
  {
   "cell_type": "markdown",
   "metadata": {},
   "source": [
    "# Importing Necessary Libraries"
   ]
  },
  {
   "cell_type": "code",
   "execution_count": 1,
   "metadata": {},
   "outputs": [],
   "source": [
    "import warnings\n",
    "import itertools\n",
    "\n",
    "import numpy as np\n",
    "import pandas as pd\n",
    "import matplotlib.pyplot as plt\n",
    "import seaborn as sns\n",
    "%matplotlib inline\n",
    "\n",
    "from sklearn.preprocessing import StandardScaler, MinMaxScaler\n",
    "from sklearn.model_selection import train_test_split, cross_val_score, GridSearchCV\n",
    "\n",
    "from sklearn.tree import DecisionTreeRegressor\n",
    "from sklearn.ensemble import RandomForestRegressor, ExtraTreesRegressor\n",
    "\n",
    "from sklearn.metrics import mean_squared_error, accuracy_score"
   ]
  },
  {
   "cell_type": "markdown",
   "metadata": {},
   "source": [
    "# Importing the Data"
   ]
  },
  {
   "cell_type": "code",
   "execution_count": 2,
   "metadata": {},
   "outputs": [],
   "source": [
    "df = pd.read_excel('data/no_nans_data.xlsx')\n",
    "df['Contract Years Left'] = df['Contract Years Left'].apply(lambda x:int(x))"
   ]
  },
  {
   "cell_type": "markdown",
   "metadata": {},
   "source": [
    "# Removing Outliers"
   ]
  },
  {
   "cell_type": "code",
   "execution_count": 3,
   "metadata": {},
   "outputs": [],
   "source": [
    "df = df[50:1050]"
   ]
  },
  {
   "cell_type": "markdown",
   "metadata": {},
   "source": [
    "The top 50 most valuable players in the world have been removed in order to improve the skewness of the data. A lot of players valued under £4,000,000 have been removed from the tail end of the dataset as well. We are left with 1000 players in our dataset."
   ]
  },
  {
   "cell_type": "code",
   "execution_count": 4,
   "metadata": {},
   "outputs": [
    {
     "data": {
      "text/html": [
       "<div>\n",
       "<style scoped>\n",
       "    .dataframe tbody tr th:only-of-type {\n",
       "        vertical-align: middle;\n",
       "    }\n",
       "\n",
       "    .dataframe tbody tr th {\n",
       "        vertical-align: top;\n",
       "    }\n",
       "\n",
       "    .dataframe thead th {\n",
       "        text-align: right;\n",
       "    }\n",
       "</style>\n",
       "<table border=\"1\" class=\"dataframe\">\n",
       "  <thead>\n",
       "    <tr style=\"text-align: right;\">\n",
       "      <th></th>\n",
       "      <th>Player</th>\n",
       "      <th>Club</th>\n",
       "      <th>Age</th>\n",
       "      <th>Position</th>\n",
       "      <th>Nation</th>\n",
       "      <th>Value</th>\n",
       "      <th>Contract Years Left</th>\n",
       "      <th>League</th>\n",
       "      <th>MP (20/21)</th>\n",
       "      <th>Starts (20/21)</th>\n",
       "      <th>...</th>\n",
       "      <th>Offsides (17/18)</th>\n",
       "      <th>Crosses (17/18)</th>\n",
       "      <th>Interceptions (17/18)</th>\n",
       "      <th>Penalty Kicks Won (17/18)</th>\n",
       "      <th>Penalties Conceded (17/18)</th>\n",
       "      <th>Own Goals (17/18)</th>\n",
       "      <th>Total Loose Balls Recovered (17/18)</th>\n",
       "      <th>Aerial Duel Won (17/18)</th>\n",
       "      <th>Aerial Duel Lost (17/18)</th>\n",
       "      <th>% Aerial Duels Won (17/18)</th>\n",
       "    </tr>\n",
       "  </thead>\n",
       "  <tbody>\n",
       "    <tr>\n",
       "      <th>50</th>\n",
       "      <td>Paul Pogba</td>\n",
       "      <td>Manchester United</td>\n",
       "      <td>28</td>\n",
       "      <td>midfield</td>\n",
       "      <td>France</td>\n",
       "      <td>54000000</td>\n",
       "      <td>1</td>\n",
       "      <td>Premier League</td>\n",
       "      <td>26.0</td>\n",
       "      <td>21.0</td>\n",
       "      <td>...</td>\n",
       "      <td>3.0</td>\n",
       "      <td>34.0</td>\n",
       "      <td>33.0</td>\n",
       "      <td>0.0</td>\n",
       "      <td>0.0</td>\n",
       "      <td>0.0</td>\n",
       "      <td>247.0</td>\n",
       "      <td>59.0</td>\n",
       "      <td>39.0</td>\n",
       "      <td>60.2</td>\n",
       "    </tr>\n",
       "    <tr>\n",
       "      <th>51</th>\n",
       "      <td>Koke</td>\n",
       "      <td>Atlético de Madrid</td>\n",
       "      <td>29</td>\n",
       "      <td>midfield</td>\n",
       "      <td>Spain</td>\n",
       "      <td>54000000</td>\n",
       "      <td>3</td>\n",
       "      <td>La Liga</td>\n",
       "      <td>37.0</td>\n",
       "      <td>34.0</td>\n",
       "      <td>...</td>\n",
       "      <td>1.0</td>\n",
       "      <td>53.0</td>\n",
       "      <td>23.0</td>\n",
       "      <td>0.0</td>\n",
       "      <td>0.0</td>\n",
       "      <td>0.0</td>\n",
       "      <td>303.0</td>\n",
       "      <td>9.0</td>\n",
       "      <td>8.0</td>\n",
       "      <td>52.9</td>\n",
       "    </tr>\n",
       "    <tr>\n",
       "      <th>52</th>\n",
       "      <td>Antoine Griezmann</td>\n",
       "      <td>Atlético de Madrid</td>\n",
       "      <td>30</td>\n",
       "      <td>attack</td>\n",
       "      <td>France</td>\n",
       "      <td>54000000</td>\n",
       "      <td>1</td>\n",
       "      <td>La Liga</td>\n",
       "      <td>36.0</td>\n",
       "      <td>32.0</td>\n",
       "      <td>...</td>\n",
       "      <td>26.0</td>\n",
       "      <td>23.0</td>\n",
       "      <td>14.0</td>\n",
       "      <td>1.0</td>\n",
       "      <td>0.0</td>\n",
       "      <td>0.0</td>\n",
       "      <td>156.0</td>\n",
       "      <td>9.0</td>\n",
       "      <td>29.0</td>\n",
       "      <td>23.7</td>\n",
       "    </tr>\n",
       "    <tr>\n",
       "      <th>53</th>\n",
       "      <td>Jules Kounde</td>\n",
       "      <td>Sevilla FC</td>\n",
       "      <td>22</td>\n",
       "      <td>Defender</td>\n",
       "      <td>France</td>\n",
       "      <td>54000000</td>\n",
       "      <td>3</td>\n",
       "      <td>La Liga</td>\n",
       "      <td>34.0</td>\n",
       "      <td>33.0</td>\n",
       "      <td>...</td>\n",
       "      <td>1.0</td>\n",
       "      <td>1.0</td>\n",
       "      <td>16.0</td>\n",
       "      <td>0.0</td>\n",
       "      <td>0.0</td>\n",
       "      <td>0.0</td>\n",
       "      <td>195.0</td>\n",
       "      <td>22.0</td>\n",
       "      <td>10.0</td>\n",
       "      <td>68.8</td>\n",
       "    </tr>\n",
       "    <tr>\n",
       "      <th>54</th>\n",
       "      <td>Achraf Hakimi</td>\n",
       "      <td>Paris Saint-Germain</td>\n",
       "      <td>22</td>\n",
       "      <td>Defender</td>\n",
       "      <td>Morocco</td>\n",
       "      <td>54000000</td>\n",
       "      <td>5</td>\n",
       "      <td>Ligue 1</td>\n",
       "      <td>37.0</td>\n",
       "      <td>29.0</td>\n",
       "      <td>...</td>\n",
       "      <td>1.0</td>\n",
       "      <td>21.0</td>\n",
       "      <td>14.0</td>\n",
       "      <td>0.0</td>\n",
       "      <td>0.0</td>\n",
       "      <td>0.0</td>\n",
       "      <td>62.0</td>\n",
       "      <td>4.0</td>\n",
       "      <td>3.0</td>\n",
       "      <td>57.1</td>\n",
       "    </tr>\n",
       "    <tr>\n",
       "      <th>...</th>\n",
       "      <td>...</td>\n",
       "      <td>...</td>\n",
       "      <td>...</td>\n",
       "      <td>...</td>\n",
       "      <td>...</td>\n",
       "      <td>...</td>\n",
       "      <td>...</td>\n",
       "      <td>...</td>\n",
       "      <td>...</td>\n",
       "      <td>...</td>\n",
       "      <td>...</td>\n",
       "      <td>...</td>\n",
       "      <td>...</td>\n",
       "      <td>...</td>\n",
       "      <td>...</td>\n",
       "      <td>...</td>\n",
       "      <td>...</td>\n",
       "      <td>...</td>\n",
       "      <td>...</td>\n",
       "      <td>...</td>\n",
       "      <td>...</td>\n",
       "    </tr>\n",
       "    <tr>\n",
       "      <th>1045</th>\n",
       "      <td>Sime Vrsaljko</td>\n",
       "      <td>Atlético de Madrid</td>\n",
       "      <td>29</td>\n",
       "      <td>Defender</td>\n",
       "      <td>Croatia</td>\n",
       "      <td>4500000</td>\n",
       "      <td>1</td>\n",
       "      <td>La Liga</td>\n",
       "      <td>9.0</td>\n",
       "      <td>6.0</td>\n",
       "      <td>...</td>\n",
       "      <td>3.0</td>\n",
       "      <td>53.0</td>\n",
       "      <td>22.0</td>\n",
       "      <td>0.0</td>\n",
       "      <td>0.0</td>\n",
       "      <td>0.0</td>\n",
       "      <td>162.0</td>\n",
       "      <td>28.0</td>\n",
       "      <td>14.0</td>\n",
       "      <td>66.7</td>\n",
       "    </tr>\n",
       "    <tr>\n",
       "      <th>1046</th>\n",
       "      <td>Ibrahim Amadou</td>\n",
       "      <td>Sevilla FC</td>\n",
       "      <td>28</td>\n",
       "      <td>midfield</td>\n",
       "      <td>France</td>\n",
       "      <td>4500000</td>\n",
       "      <td>1</td>\n",
       "      <td>La Liga</td>\n",
       "      <td>24.0</td>\n",
       "      <td>20.0</td>\n",
       "      <td>...</td>\n",
       "      <td>0.0</td>\n",
       "      <td>4.0</td>\n",
       "      <td>31.0</td>\n",
       "      <td>0.0</td>\n",
       "      <td>1.0</td>\n",
       "      <td>0.0</td>\n",
       "      <td>263.0</td>\n",
       "      <td>16.0</td>\n",
       "      <td>13.0</td>\n",
       "      <td>55.2</td>\n",
       "    </tr>\n",
       "    <tr>\n",
       "      <th>1047</th>\n",
       "      <td>Daniele Rugani</td>\n",
       "      <td>Juventus FC</td>\n",
       "      <td>27</td>\n",
       "      <td>Defender</td>\n",
       "      <td>Italy</td>\n",
       "      <td>4500000</td>\n",
       "      <td>2</td>\n",
       "      <td>Serie A</td>\n",
       "      <td>16.0</td>\n",
       "      <td>12.0</td>\n",
       "      <td>...</td>\n",
       "      <td>1.0</td>\n",
       "      <td>0.0</td>\n",
       "      <td>15.0</td>\n",
       "      <td>0.0</td>\n",
       "      <td>2.0</td>\n",
       "      <td>0.0</td>\n",
       "      <td>215.0</td>\n",
       "      <td>43.0</td>\n",
       "      <td>28.0</td>\n",
       "      <td>60.6</td>\n",
       "    </tr>\n",
       "    <tr>\n",
       "      <th>1048</th>\n",
       "      <td>Kortney Hause</td>\n",
       "      <td>Aston Villa</td>\n",
       "      <td>26</td>\n",
       "      <td>Defender</td>\n",
       "      <td>England</td>\n",
       "      <td>4500000</td>\n",
       "      <td>1</td>\n",
       "      <td>Premier League</td>\n",
       "      <td>7.0</td>\n",
       "      <td>7.0</td>\n",
       "      <td>...</td>\n",
       "      <td>0.5</td>\n",
       "      <td>1.0</td>\n",
       "      <td>11.5</td>\n",
       "      <td>0.0</td>\n",
       "      <td>0.0</td>\n",
       "      <td>0.0</td>\n",
       "      <td>158.0</td>\n",
       "      <td>74.5</td>\n",
       "      <td>25.5</td>\n",
       "      <td>75.2</td>\n",
       "    </tr>\n",
       "    <tr>\n",
       "      <th>1049</th>\n",
       "      <td>Joseba Zaldua</td>\n",
       "      <td>Real Sociedad</td>\n",
       "      <td>29</td>\n",
       "      <td>Defender</td>\n",
       "      <td>Spain</td>\n",
       "      <td>4500000</td>\n",
       "      <td>2</td>\n",
       "      <td>La Liga</td>\n",
       "      <td>12.0</td>\n",
       "      <td>6.0</td>\n",
       "      <td>...</td>\n",
       "      <td>2.0</td>\n",
       "      <td>61.0</td>\n",
       "      <td>38.0</td>\n",
       "      <td>0.0</td>\n",
       "      <td>0.0</td>\n",
       "      <td>0.0</td>\n",
       "      <td>274.0</td>\n",
       "      <td>26.0</td>\n",
       "      <td>19.0</td>\n",
       "      <td>57.8</td>\n",
       "    </tr>\n",
       "  </tbody>\n",
       "</table>\n",
       "<p>1000 rows × 544 columns</p>\n",
       "</div>"
      ],
      "text/plain": [
       "                 Player                 Club  Age  Position   Nation  \\\n",
       "50           Paul Pogba    Manchester United   28  midfield   France   \n",
       "51                 Koke   Atlético de Madrid   29  midfield    Spain   \n",
       "52    Antoine Griezmann   Atlético de Madrid   30    attack   France   \n",
       "53         Jules Kounde           Sevilla FC   22  Defender   France   \n",
       "54        Achraf Hakimi  Paris Saint-Germain   22  Defender  Morocco   \n",
       "...                 ...                  ...  ...       ...      ...   \n",
       "1045      Sime Vrsaljko   Atlético de Madrid   29  Defender  Croatia   \n",
       "1046     Ibrahim Amadou           Sevilla FC   28  midfield   France   \n",
       "1047     Daniele Rugani          Juventus FC   27  Defender    Italy   \n",
       "1048      Kortney Hause          Aston Villa   26  Defender  England   \n",
       "1049      Joseba Zaldua        Real Sociedad   29  Defender    Spain   \n",
       "\n",
       "         Value  Contract Years Left          League  MP (20/21)  \\\n",
       "50    54000000                    1  Premier League        26.0   \n",
       "51    54000000                    3         La Liga        37.0   \n",
       "52    54000000                    1         La Liga        36.0   \n",
       "53    54000000                    3         La Liga        34.0   \n",
       "54    54000000                    5         Ligue 1        37.0   \n",
       "...        ...                  ...             ...         ...   \n",
       "1045   4500000                    1         La Liga         9.0   \n",
       "1046   4500000                    1         La Liga        24.0   \n",
       "1047   4500000                    2         Serie A        16.0   \n",
       "1048   4500000                    1  Premier League         7.0   \n",
       "1049   4500000                    2         La Liga        12.0   \n",
       "\n",
       "      Starts (20/21)  ...  Offsides (17/18)  Crosses (17/18)  \\\n",
       "50              21.0  ...               3.0             34.0   \n",
       "51              34.0  ...               1.0             53.0   \n",
       "52              32.0  ...              26.0             23.0   \n",
       "53              33.0  ...               1.0              1.0   \n",
       "54              29.0  ...               1.0             21.0   \n",
       "...              ...  ...               ...              ...   \n",
       "1045             6.0  ...               3.0             53.0   \n",
       "1046            20.0  ...               0.0              4.0   \n",
       "1047            12.0  ...               1.0              0.0   \n",
       "1048             7.0  ...               0.5              1.0   \n",
       "1049             6.0  ...               2.0             61.0   \n",
       "\n",
       "      Interceptions (17/18)  Penalty Kicks Won (17/18)  \\\n",
       "50                     33.0                        0.0   \n",
       "51                     23.0                        0.0   \n",
       "52                     14.0                        1.0   \n",
       "53                     16.0                        0.0   \n",
       "54                     14.0                        0.0   \n",
       "...                     ...                        ...   \n",
       "1045                   22.0                        0.0   \n",
       "1046                   31.0                        0.0   \n",
       "1047                   15.0                        0.0   \n",
       "1048                   11.5                        0.0   \n",
       "1049                   38.0                        0.0   \n",
       "\n",
       "      Penalties Conceded (17/18)  Own Goals (17/18)  \\\n",
       "50                           0.0                0.0   \n",
       "51                           0.0                0.0   \n",
       "52                           0.0                0.0   \n",
       "53                           0.0                0.0   \n",
       "54                           0.0                0.0   \n",
       "...                          ...                ...   \n",
       "1045                         0.0                0.0   \n",
       "1046                         1.0                0.0   \n",
       "1047                         2.0                0.0   \n",
       "1048                         0.0                0.0   \n",
       "1049                         0.0                0.0   \n",
       "\n",
       "      Total Loose Balls Recovered (17/18)  Aerial Duel Won (17/18)  \\\n",
       "50                                  247.0                     59.0   \n",
       "51                                  303.0                      9.0   \n",
       "52                                  156.0                      9.0   \n",
       "53                                  195.0                     22.0   \n",
       "54                                   62.0                      4.0   \n",
       "...                                   ...                      ...   \n",
       "1045                                162.0                     28.0   \n",
       "1046                                263.0                     16.0   \n",
       "1047                                215.0                     43.0   \n",
       "1048                                158.0                     74.5   \n",
       "1049                                274.0                     26.0   \n",
       "\n",
       "      Aerial Duel Lost (17/18)  % Aerial Duels Won (17/18)  \n",
       "50                        39.0                        60.2  \n",
       "51                         8.0                        52.9  \n",
       "52                        29.0                        23.7  \n",
       "53                        10.0                        68.8  \n",
       "54                         3.0                        57.1  \n",
       "...                        ...                         ...  \n",
       "1045                      14.0                        66.7  \n",
       "1046                      13.0                        55.2  \n",
       "1047                      28.0                        60.6  \n",
       "1048                      25.5                        75.2  \n",
       "1049                      19.0                        57.8  \n",
       "\n",
       "[1000 rows x 544 columns]"
      ]
     },
     "execution_count": 4,
     "metadata": {},
     "output_type": "execute_result"
    }
   ],
   "source": [
    "df"
   ]
  },
  {
   "cell_type": "markdown",
   "metadata": {},
   "source": [
    "# Separating Data by Position"
   ]
  },
  {
   "cell_type": "code",
   "execution_count": 5,
   "metadata": {},
   "outputs": [],
   "source": [
    "attack = df[df['Position']=='attack']\n",
    "midfield = df[df['Position']=='midfield']\n",
    "defence = df[df['Position']=='Defender']"
   ]
  },
  {
   "cell_type": "markdown",
   "metadata": {},
   "source": [
    "# Feature Selection for Attackers Data"
   ]
  },
  {
   "cell_type": "code",
   "execution_count": 6,
   "metadata": {},
   "outputs": [],
   "source": [
    "X = attack.drop(['Player','Value','Club','Position','Nation','League'],axis=1)\n",
    "y = attack['Value']"
   ]
  },
  {
   "cell_type": "code",
   "execution_count": 7,
   "metadata": {},
   "outputs": [],
   "source": [
    "X_train, X_test, y_train, y_test = train_test_split(X,y,test_size=0.25,random_state=0)"
   ]
  },
  {
   "cell_type": "code",
   "execution_count": 8,
   "metadata": {},
   "outputs": [
    {
     "data": {
      "text/plain": [
       "(225, 538)"
      ]
     },
     "execution_count": 8,
     "metadata": {},
     "output_type": "execute_result"
    }
   ],
   "source": [
    "# size of train data set\n",
    "X_train.shape"
   ]
  },
  {
   "cell_type": "code",
   "execution_count": 9,
   "metadata": {},
   "outputs": [
    {
     "data": {
      "text/plain": [
       "(75, 538)"
      ]
     },
     "execution_count": 9,
     "metadata": {},
     "output_type": "execute_result"
    }
   ],
   "source": [
    "# size of test data set\n",
    "X_test.shape"
   ]
  },
  {
   "cell_type": "code",
   "execution_count": 10,
   "metadata": {},
   "outputs": [],
   "source": [
    "#Normalization to make Data Distribution more Normal\n",
    "\n",
    "#Initiating MinMax Scaler \n",
    "norm = MinMaxScaler()\n",
    "\n",
    "#Normalizing Train and Test Data\n",
    "X_train_norm = norm.fit_transform(X_train)\n",
    "X_test_norm = norm.transform(X_test)"
   ]
  },
  {
   "cell_type": "code",
   "execution_count": 11,
   "metadata": {},
   "outputs": [],
   "source": [
    "#Initiating Standard Scaler\n",
    "ss= StandardScaler()\n",
    "\n",
    "#Standardizing numerical columns\n",
    "X_train_scaled = ss.fit_transform(X_train_norm)\n",
    "X_test_scaled = ss.transform(X_test_norm)"
   ]
  },
  {
   "cell_type": "code",
   "execution_count": 12,
   "metadata": {},
   "outputs": [],
   "source": [
    "#Initiating ExtraTreesRegressor to calculate feature importance\n",
    "reg= ExtraTreesRegressor()"
   ]
  },
  {
   "cell_type": "code",
   "execution_count": 13,
   "metadata": {},
   "outputs": [],
   "source": [
    "reg.fit(X_train_scaled,y_train);"
   ]
  },
  {
   "cell_type": "code",
   "execution_count": 14,
   "metadata": {},
   "outputs": [
    {
     "data": {
      "text/plain": [
       "array([7.36899478e-03, 4.53270715e-03, 1.87269318e-03, 1.32998724e-03,\n",
       "       8.18147112e-04, 5.25242964e-04, 1.97030332e-03, 9.77737496e-04,\n",
       "       1.66090658e-03, 4.22788643e-03, 3.74435248e-03, 1.08667135e-03,\n",
       "       1.17905471e-03, 1.86998352e-03, 1.86958945e-03, 5.47137411e-03,\n",
       "       3.41928374e-03, 3.51902697e-03, 2.55395062e-03, 1.01123452e-02,\n",
       "       1.72146722e-03, 1.26364831e-02, 3.94417539e-03, 2.84181286e-03,\n",
       "       4.09311931e-03, 9.43103840e-03, 1.74106963e-02, 3.82408272e-03,\n",
       "       1.14743962e-03, 2.24795143e-03, 6.85435918e-03, 1.53156084e-03,\n",
       "       1.71715115e-03, 1.41268468e-03, 2.59603002e-03, 8.09860702e-04,\n",
       "       3.80335724e-03, 6.26472941e-04, 9.67827649e-04, 5.26473926e-03,\n",
       "       2.26630172e-03, 2.29455290e-02, 1.38288740e-03, 2.83151300e-03,\n",
       "       5.29155305e-03, 1.38604335e-03, 6.98387107e-04, 4.73187988e-03,\n",
       "       2.49164148e-03, 2.44904269e-03, 1.06740888e-03, 1.14937767e-03,\n",
       "       1.90618576e-03, 3.59439927e-04, 7.32127726e-04, 9.66004858e-03,\n",
       "       1.11169703e-03, 8.72394247e-04, 1.43217442e-03, 2.60486683e-02,\n",
       "       3.16064950e-02, 4.00181395e-03, 2.32618681e-03, 1.71846332e-03,\n",
       "       1.56038650e-03, 2.54147451e-03, 2.12313155e-03, 9.96727522e-03,\n",
       "       4.38389156e-03, 3.97319395e-03, 9.49324270e-03, 3.39743599e-03,\n",
       "       2.55764604e-02, 5.28972206e-04, 2.25548737e-03, 9.19639070e-04,\n",
       "       1.17867471e-02, 1.23404053e-03, 1.09044468e-03, 6.46910801e-03,\n",
       "       4.58688581e-03, 1.15359756e-02, 3.03062674e-03, 3.79613257e-04,\n",
       "       1.87569656e-02, 2.25225924e-02, 8.48638599e-03, 5.68525238e-03,\n",
       "       5.18788612e-03, 6.15418828e-03, 4.51167769e-04, 7.99641607e-04,\n",
       "       2.01741695e-03, 1.45964222e-03, 4.46512268e-04, 1.51993499e-03,\n",
       "       1.60416664e-03, 5.50559351e-04, 8.24505421e-04, 3.20664350e-03,\n",
       "       1.42466305e-03, 2.44268039e-04, 3.08946501e-04, 2.72085464e-03,\n",
       "       1.04994816e-03, 1.46267458e-03, 1.06439489e-03, 1.88462434e-03,\n",
       "       5.01573342e-04, 8.64828459e-04, 7.75406084e-04, 1.53885262e-03,\n",
       "       5.31083893e-04, 5.74328162e-04, 4.50801455e-04, 6.23747850e-04,\n",
       "       1.72671467e-03, 0.00000000e+00, 9.27695485e-04, 3.40702111e-04,\n",
       "       1.10804621e-03, 7.77290578e-04, 5.63569492e-04, 1.23356091e-04,\n",
       "       3.07460030e-04, 1.19745880e-03, 1.08071590e-03, 1.14959522e-03,\n",
       "       6.14411559e-04, 2.23506152e-04, 1.28021956e-03, 1.00231615e-04,\n",
       "       6.31103590e-04, 3.06108800e-04, 7.83994367e-04, 1.42526991e-03,\n",
       "       2.14074807e-03, 1.66794602e-03, 1.28756306e-03, 7.47058088e-04,\n",
       "       1.77515030e-03, 8.25482374e-04, 4.33494491e-03, 7.74241409e-04,\n",
       "       2.97428203e-06, 1.18709968e-03, 1.29022164e-03, 3.55491693e-03,\n",
       "       1.33314578e-03, 1.20752970e-03, 5.39096471e-03, 1.71944415e-03,\n",
       "       1.69901276e-03, 2.10988396e-03, 7.37317133e-04, 3.76847021e-03,\n",
       "       1.27662581e-03, 2.86403480e-03, 1.17078757e-03, 3.19771880e-03,\n",
       "       2.70895870e-03, 1.33034257e-03, 6.03100819e-04, 2.24848425e-03,\n",
       "       3.71712433e-03, 2.13585583e-03, 1.60826484e-03, 2.87460664e-03,\n",
       "       1.39590144e-03, 7.00814979e-04, 2.06730572e-03, 1.02164819e-03,\n",
       "       1.40496622e-03, 9.59924221e-05, 5.92967003e-04, 4.51757858e-04,\n",
       "       6.68523258e-04, 6.04857969e-04, 6.24858268e-04, 3.77125140e-03,\n",
       "       1.38299699e-03, 1.29166759e-03, 8.86389902e-04, 5.36688404e-04,\n",
       "       3.13759581e-04, 1.93671231e-03, 5.96898257e-04, 9.42372200e-04,\n",
       "       9.30295455e-04, 2.50527918e-04, 3.51226103e-03, 5.34247343e-04,\n",
       "       1.56824580e-04, 2.44214174e-04, 1.98734975e-02, 3.06645421e-04,\n",
       "       4.44121453e-04, 5.54430452e-04, 4.50010919e-04, 4.01510196e-04,\n",
       "       1.07474450e-03, 1.31330708e-03, 2.83308040e-04, 2.66703996e-03,\n",
       "       2.56510550e-03, 4.42173329e-03, 1.26941805e-03, 1.10904446e-03,\n",
       "       1.95711733e-03, 5.57196542e-04, 2.74986707e-04, 9.82846113e-04,\n",
       "       4.20782916e-04, 4.81482751e-04, 3.16305998e-04, 2.15821235e-03,\n",
       "       1.44008892e-04, 8.22648557e-04, 2.26959099e-03, 6.03345711e-04,\n",
       "       2.54564727e-03, 1.10858633e-04, 6.62709679e-04, 3.51236735e-03,\n",
       "       3.81449673e-04, 7.43160082e-04, 8.13398721e-04, 9.71396512e-04,\n",
       "       7.83281703e-04, 1.21089572e-03, 1.00359629e-03, 4.73901468e-04,\n",
       "       9.00531810e-04, 1.42684628e-04, 6.53645153e-04, 1.14191542e-03,\n",
       "       6.52354654e-04, 7.13122448e-04, 1.34569728e-03, 1.39269969e-03,\n",
       "       1.06734705e-03, 8.20806676e-04, 5.10202581e-04, 8.99727200e-04,\n",
       "       6.27859105e-04, 1.47277164e-03, 1.08558919e-03, 1.25515007e-03,\n",
       "       1.23038456e-03, 3.20287253e-04, 4.45268347e-04, 3.30119529e-05,\n",
       "       2.17913154e-04, 1.52511452e-03, 9.59343173e-04, 4.01563140e-04,\n",
       "       2.60895583e-04, 2.03563859e-04, 8.36261163e-04, 2.67659481e-03,\n",
       "       1.48883796e-03, 5.56483062e-04, 3.86373680e-04, 1.60934037e-03,\n",
       "       8.59017558e-04, 4.11935386e-04, 1.27908418e-03, 6.90821999e-04,\n",
       "       1.36115369e-03, 1.99124331e-03, 5.97930676e-04, 1.08528865e-03,\n",
       "       5.27378585e-04, 8.97814443e-04, 1.03349681e-03, 8.31136414e-04,\n",
       "       1.01624456e-03, 5.63225553e-04, 7.55623159e-04, 2.18376454e-03,\n",
       "       6.05584257e-04, 8.96401144e-04, 1.13142773e-03, 1.29083462e-03,\n",
       "       1.39747430e-03, 1.46674490e-03, 6.38445582e-04, 8.30059519e-04,\n",
       "       6.72304949e-04, 1.61499381e-03, 1.66480298e-03, 7.52081806e-04,\n",
       "       1.31781599e-03, 7.51144614e-03, 2.54603256e-03, 9.95672892e-04,\n",
       "       8.78015675e-04, 4.52914649e-04, 2.49676068e-03, 2.89169434e-03,\n",
       "       1.31394541e-03, 7.93173923e-04, 2.48824813e-03, 2.09332266e-03,\n",
       "       2.12497175e-03, 4.87342020e-04, 8.41930018e-04, 5.52990372e-04,\n",
       "       2.96850325e-03, 4.54082194e-03, 1.11052212e-03, 1.33218062e-03,\n",
       "       3.69657366e-03, 1.78490897e-03, 1.42347662e-03, 1.76929238e-03,\n",
       "       1.73381221e-03, 2.93971879e-03, 1.51515273e-03, 7.86073188e-04,\n",
       "       2.74681399e-03, 9.43345444e-04, 2.96127784e-04, 4.78701032e-04,\n",
       "       6.49327063e-04, 7.19250105e-04, 1.90234910e-03, 1.93175422e-04,\n",
       "       1.22406191e-03, 3.80512806e-04, 1.29766766e-03, 2.44919605e-03,\n",
       "       1.24478645e-03, 1.70425504e-03, 1.01404280e-03, 1.54788832e-03,\n",
       "       2.37601029e-04, 6.90890699e-04, 1.38811528e-03, 1.21274095e-03,\n",
       "       6.24064109e-04, 2.10351009e-03, 1.00361692e-03, 2.88149062e-03,\n",
       "       1.37472480e-03, 5.81547084e-04, 1.20487445e-03, 4.29619930e-04,\n",
       "       9.38848986e-04, 8.12793047e-04, 1.37635138e-04, 8.25087614e-04,\n",
       "       5.58378192e-04, 3.56977654e-04, 3.23933260e-03, 2.36464223e-04,\n",
       "       6.63222457e-04, 1.53267971e-03, 3.98276647e-03, 5.32890721e-04,\n",
       "       1.04160341e-03, 1.44150910e-03, 1.76388176e-03, 9.87081675e-04,\n",
       "       6.18449904e-04, 2.79603187e-04, 7.45309748e-04, 1.70522732e-03,\n",
       "       6.64520574e-04, 2.33469666e-04, 1.96587469e-04, 3.56695018e-04,\n",
       "       2.55873394e-03, 9.27313809e-04, 1.04746950e-03, 7.53266622e-04,\n",
       "       1.32725894e-03, 7.76827733e-04, 8.66477500e-04, 4.21865296e-03,\n",
       "       4.88261592e-04, 3.47350031e-04, 3.35003582e-04, 4.92995995e-04,\n",
       "       4.42375822e-04, 5.28310696e-05, 1.15892256e-03, 2.76624208e-04,\n",
       "       1.35152155e-03, 1.83378136e-03, 1.71788354e-04, 2.33189996e-04,\n",
       "       1.55137103e-03, 6.82691365e-04, 1.45072343e-03, 1.13992607e-03,\n",
       "       4.52919726e-04, 1.36523128e-03, 1.31594973e-03, 6.32877904e-03,\n",
       "       7.00585326e-04, 8.95904805e-04, 1.11730273e-03, 9.11914621e-04,\n",
       "       5.47280693e-04, 8.04495509e-04, 4.12400441e-04, 5.53813127e-04,\n",
       "       7.62047584e-04, 5.70284096e-04, 2.01602485e-04, 1.84811985e-03,\n",
       "       3.89480334e-04, 9.85167303e-04, 5.87421142e-04, 1.95869004e-03,\n",
       "       1.36398654e-03, 6.00728391e-03, 1.78588968e-03, 8.08446859e-03,\n",
       "       3.85801907e-04, 3.96096731e-04, 1.72010780e-03, 6.55698776e-04,\n",
       "       1.57499791e-03, 1.28260442e-03, 2.64449909e-03, 1.14752415e-03,\n",
       "       1.79623504e-03, 2.97625190e-04, 6.13585782e-04, 1.55091936e-03,\n",
       "       2.20379332e-04, 1.91303786e-03, 5.55593504e-04, 5.80408283e-04,\n",
       "       5.04384523e-04, 1.76949890e-04, 7.20478982e-04, 2.07516029e-03,\n",
       "       8.35033126e-04, 4.46357726e-04, 2.02883085e-03, 8.10104267e-04,\n",
       "       3.47214758e-04, 1.03234088e-03, 1.13789424e-03, 1.62512976e-03,\n",
       "       6.31209428e-04, 1.68909046e-03, 2.49884487e-03, 2.24193764e-03,\n",
       "       1.25540159e-03, 2.10104372e-03, 2.29482570e-03, 3.57358742e-04,\n",
       "       2.67953429e-04, 6.77550942e-04, 9.61980499e-04, 1.48154376e-03,\n",
       "       6.90931491e-04, 2.19902608e-04, 2.85256632e-03, 1.02395128e-04,\n",
       "       5.34040055e-04, 1.00464850e-03, 9.63939474e-04, 8.11827837e-04,\n",
       "       6.17454824e-04, 8.95957075e-04, 6.62441323e-04, 1.23518966e-03,\n",
       "       1.23602102e-03, 7.98058862e-04, 1.47468885e-03, 2.83189795e-03,\n",
       "       1.18502583e-03, 5.72670311e-05, 4.98898633e-04, 9.95410765e-04,\n",
       "       7.34304762e-04, 1.11838730e-03, 6.80508791e-04, 3.39669078e-03,\n",
       "       6.89809162e-04, 3.79032748e-04, 1.54707691e-03, 1.01978410e-03,\n",
       "       1.36908145e-03, 3.63691049e-04, 3.16024373e-04, 1.48058937e-03,\n",
       "       9.48983300e-04, 4.57624684e-04, 5.47822530e-04, 1.97301379e-03,\n",
       "       1.36745284e-03, 1.60671262e-03, 4.89995475e-04, 1.34473606e-03,\n",
       "       1.19176487e-03, 3.66979769e-04, 1.09294960e-03, 1.07588249e-03,\n",
       "       1.93234244e-04, 9.86259901e-04, 4.68757674e-04, 3.07557121e-04,\n",
       "       1.28716702e-04, 1.17107461e-03, 4.91551107e-04, 1.08059945e-03,\n",
       "       9.12129466e-04, 1.88449745e-03, 9.03030831e-04, 8.20619689e-04,\n",
       "       3.82831818e-04, 1.80404570e-04, 1.62774572e-03, 2.19580937e-04,\n",
       "       7.20678228e-04, 1.53546308e-03, 1.06438863e-03, 1.49746954e-03,\n",
       "       1.30250417e-03, 4.11347580e-04, 2.06404775e-03, 1.65428927e-03,\n",
       "       1.81071830e-03, 4.01085578e-04, 1.52138600e-03, 1.18959139e-03,\n",
       "       4.55742238e-05, 1.79526037e-05, 8.15315128e-04, 6.74839229e-04,\n",
       "       2.93113543e-03, 9.46190764e-04])"
      ]
     },
     "execution_count": 14,
     "metadata": {},
     "output_type": "execute_result"
    }
   ],
   "source": [
    "# print the features importance.\n",
    "reg.feature_importances_"
   ]
  },
  {
   "cell_type": "code",
   "execution_count": 15,
   "metadata": {},
   "outputs": [
    {
     "data": {
      "image/png": "[encoded data removed]",
      "text/plain": [
       "<Figure size 1080x720 with 1 Axes>"
      ]
     },
     "metadata": {
      "needs_background": "light"
     },
     "output_type": "display_data"
    }
   ],
   "source": [
    "fig,ax = plt.subplots(figsize=(15,10))\n",
    "feat_importances = pd.Series(reg.feature_importances_, index=X_train.columns)\n",
    "feat_importances.nlargest(10).plot(kind='barh')\n",
    "plt.show()"
   ]
  },
  {
   "cell_type": "code",
   "execution_count": 16,
   "metadata": {},
   "outputs": [],
   "source": [
    "top_10_features = list(feat_importances.nlargest(10).keys())"
   ]
  },
  {
   "cell_type": "code",
   "execution_count": 17,
   "metadata": {},
   "outputs": [
    {
     "data": {
      "text/plain": [
       "['Touches in Attacking Penalty Box (20/21)',\n",
       " 'Touches in Attacking 3rd (20/21)',\n",
       " 'Carries into Attacking Penalty Box (20/21)',\n",
       " 'Passes Leading to Shot Attempt (20/21)',\n",
       " 'Passes Attempted (Short Passes) (20/21)',\n",
       " 'Touches in Attacking Penalty Box (19/20)',\n",
       " 'Passes Completed (Short Passes) (20/21)',\n",
       " '(Non-Penalty xG+xA)/90 (20/21)',\n",
       " 'Non-penalty xG+ xA (20/21)',\n",
       " 'Number of Times Received Pass (20/21)']"
      ]
     },
     "execution_count": 17,
     "metadata": {},
     "output_type": "execute_result"
    }
   ],
   "source": [
    "top_10_features"
   ]
  },
  {
   "cell_type": "markdown",
   "metadata": {},
   "source": [
    "# Decision Tree Modeling with Default Parameters"
   ]
  },
  {
   "cell_type": "code",
   "execution_count": 18,
   "metadata": {},
   "outputs": [],
   "source": [
    "X = attack.drop(['Player',\n",
    "                 'Value',\n",
    "                 'Club',\n",
    "                 'Position',\n",
    "                 'Nation',\n",
    "                 'League'],axis=1)[top_10_features]\n",
    "\n",
    "y = attack['Value']"
   ]
  },
  {
   "cell_type": "code",
   "execution_count": 19,
   "metadata": {},
   "outputs": [],
   "source": [
    "X_train, X_test, y_train, y_test = train_test_split(X,y,test_size=0.25,random_state=0)"
   ]
  },
  {
   "cell_type": "code",
   "execution_count": 20,
   "metadata": {},
   "outputs": [
    {
     "data": {
      "text/plain": [
       "(225, 10)"
      ]
     },
     "execution_count": 20,
     "metadata": {},
     "output_type": "execute_result"
    }
   ],
   "source": [
    "X_train.shape"
   ]
  },
  {
   "cell_type": "code",
   "execution_count": 21,
   "metadata": {},
   "outputs": [
    {
     "data": {
      "text/plain": [
       "(75, 10)"
      ]
     },
     "execution_count": 21,
     "metadata": {},
     "output_type": "execute_result"
    }
   ],
   "source": [
    "X_test.shape"
   ]
  },
  {
   "cell_type": "code",
   "execution_count": 22,
   "metadata": {},
   "outputs": [],
   "source": [
    "#Normalization to make Data Distribution more Normal\n",
    "\n",
    "#Initiating MinMax Scaler \n",
    "norm = MinMaxScaler()\n",
    "\n",
    "#Normalizing Train and Test Data\n",
    "X_train_norm = norm.fit_transform(X_train)\n",
    "X_test_norm = norm.transform(X_test)"
   ]
  },
  {
   "cell_type": "code",
   "execution_count": 23,
   "metadata": {},
   "outputs": [],
   "source": [
    "#Standardizing the Data\n",
    "\n",
    "#Initiating Standard Scaler\n",
    "ss= StandardScaler()\n",
    "\n",
    "#Standardizing numerical columns\n",
    "X_train_scaled = ss.fit_transform(X_train_norm)\n",
    "X_test_scaled = ss.transform(X_test_norm)"
   ]
  },
  {
   "cell_type": "code",
   "execution_count": 24,
   "metadata": {},
   "outputs": [],
   "source": [
    "# Traning model with all features\n",
    "DtReg = DecisionTreeRegressor()\n",
    "\n",
    "DtReg.fit(X_train_scaled,y_train);"
   ]
  },
  {
   "cell_type": "code",
   "execution_count": 25,
   "metadata": {},
   "outputs": [],
   "source": [
    "cross_val_train = cross_val_score(DtReg, X_train_scaled, y_train, scoring=\"neg_root_mean_squared_error\",cv=40)\n",
    "cross_val_test = cross_val_score(DtReg, X_test_scaled, y_test, scoring=\"neg_root_mean_squared_error\",cv=40)"
   ]
  },
  {
   "cell_type": "code",
   "execution_count": 26,
   "metadata": {},
   "outputs": [],
   "source": [
    "#Train Results\n",
    "cross_val_train_mean = round(-(cross_val_train.mean()),2)\n",
    "cross_val_train_max = round(-(cross_val_train.min()),2)\n",
    "cross_val_train_min = round(-(cross_val_train.max()),2)\n",
    "\n",
    "#Test Results\n",
    "cross_val_test_mean = round(-(cross_val_test.mean()),2)\n",
    "cross_val_test_max = round(-(cross_val_test.min()),2)\n",
    "cross_val_test_min = round(-(cross_val_test.max()),2)\n",
    "\n",
    "#Creating a Dataframe to display Validation Results\n",
    "results = pd.DataFrame(columns=['Train/Test','Avg RMSE','Max RMSE','Min RMSE'])\n",
    "results.loc[0] = ['Train',cross_val_train_mean,cross_val_train_max,cross_val_train_min]\n",
    "results.loc[1] = ['Test', cross_val_test_mean, cross_val_test_max, cross_val_test_min]"
   ]
  },
  {
   "cell_type": "code",
   "execution_count": 27,
   "metadata": {
    "scrolled": true
   },
   "outputs": [
    {
     "data": {
      "image/png": "[encoded data removed]",
      "text/plain": [
       "<Figure size 1440x864 with 1 Axes>"
      ]
     },
     "metadata": {
      "needs_background": "light"
     },
     "output_type": "display_data"
    }
   ],
   "source": [
    "fig, ax = plt.subplots(figsize=(20,12))\n",
    "\n",
    "x_ticks = list(range(0,max([results.iloc[0][2],(round(results.iloc[1][2])+1000000)]),5000000))\n",
    "y_ticks = [1,2,3,4]\n",
    "y_labels = ['Train Max RMSE','Train Min RMSE','Test Max RMSE','Test Min RMSE']\n",
    "\n",
    "train_max_pos = 1\n",
    "train_max = results.iloc[0][2]\n",
    "ax.barh(train_max_pos,train_max,color='navy')\n",
    "\n",
    "train_min_pos = 2\n",
    "train_min = results.iloc[0][3]\n",
    "ax.barh(train_min_pos,train_min,color='navy')\n",
    "\n",
    "test_max_pos = 3\n",
    "test_max = results.iloc[1][2]\n",
    "ax.barh(test_max_pos,test_max,color='orange')\n",
    "\n",
    "test_min_pos = 4\n",
    "test_min = results.iloc[1][3]\n",
    "ax.barh(test_min_pos,test_min,color='orange')\n",
    "\n",
    "ax.axvline(x = results.iloc[0][1],label = 'Average Train RMSE',color='dodgerblue')\n",
    "ax.axvline(x = results.iloc[1][1],label = 'Average Test RMSE',color='red')\n",
    "\n",
    "ax.set_yticks(y_ticks)\n",
    "ax.set_yticklabels(y_labels)\n",
    "ax.set_xticks(x_ticks)\n",
    "ax.set_xticklabels([f'£ {a}' for a in x_ticks])\n",
    "ax.set_xlabel('Error Value in GBP (£)',fontsize=20)\n",
    "ax.set_ylabel('Validation Results',fontsize=20)\n",
    "ax.set_title('Comparing Train and Test RMSEs for Default Hyperparameter Decision Tree Model',fontsize=30)\n",
    "ax.legend(fontsize=15);"
   ]
  },
  {
   "cell_type": "code",
   "execution_count": 28,
   "metadata": {},
   "outputs": [
    {
     "name": "stdout",
     "output_type": "stream",
     "text": [
      "  Train/Test     Avg RMSE     Max RMSE    Min RMSE\n",
      "0      Train  12120527.57  20554707.49  4915790.88\n",
      "1       Test   8799805.36  31105385.39        0.00\n"
     ]
    }
   ],
   "source": [
    "print(results)"
   ]
  },
  {
   "cell_type": "markdown",
   "metadata": {},
   "source": [
    "# Hyperparameter Tuning. (Finding Optimal Hyperparameters)"
   ]
  },
  {
   "cell_type": "code",
   "execution_count": 29,
   "metadata": {},
   "outputs": [],
   "source": [
    "# Hyper parameters range intialization for tuning \n",
    "\n",
    "parameters={\"splitter\":[\"best\",\"random\"],\n",
    "            \"max_depth\" : [1,3,5,7,9,11,12],\n",
    "           \"min_samples_leaf\":[1,2,3,4,5,6,7,8,9,10],\n",
    "           \"min_weight_fraction_leaf\":[0.1,0.2,0.3,0.4,0.5,0.6,0.7,0.8,0.9],\n",
    "           \"max_features\":[\"auto\",\"log2\",\"sqrt\",None],\n",
    "           \"max_leaf_nodes\":[None,10,20,30,40,50,60,70,80,90] }"
   ]
  },
  {
   "cell_type": "code",
   "execution_count": 30,
   "metadata": {},
   "outputs": [],
   "source": [
    "tuning_model=GridSearchCV(DtReg,param_grid=parameters,scoring='neg_root_mean_squared_error',cv=3,verbose=3)"
   ]
  },
  {
   "cell_type": "code",
   "execution_count": 31,
   "metadata": {},
   "outputs": [],
   "source": [
    "# function for calculating how much time take for hyperparameter tuning\n",
    "\n",
    "def timer(start_time=None):\n",
    "    if not start_time:\n",
    "        start_time=datetime.now()\n",
    "        return start_time\n",
    "    elif start_time:\n",
    "        thour,temp_sec=divmod((datetime.now()-start_time).total_seconds(),3600)\n",
    "        tmin,tsec=divmod(temp_sec,60)\n",
    "        #print(thour,\":\",tmin,':',round(tsec,2))"
   ]
  },
  {
   "cell_type": "code",
   "execution_count": 32,
   "metadata": {},
   "outputs": [],
   "source": [
    "%%capture\n",
    "from datetime import datetime\n",
    "\n",
    "start_time=timer(None)\n",
    "\n",
    "tuning_model.fit(X_train_scaled,y_train)\n",
    "\n",
    "timer(start_time)"
   ]
  },
  {
   "cell_type": "code",
   "execution_count": 33,
   "metadata": {},
   "outputs": [
    {
     "data": {
      "text/plain": [
       "{'max_depth': 7,\n",
       " 'max_features': 'log2',\n",
       " 'max_leaf_nodes': 80,\n",
       " 'min_samples_leaf': 2,\n",
       " 'min_weight_fraction_leaf': 0.1,\n",
       " 'splitter': 'best'}"
      ]
     },
     "execution_count": 33,
     "metadata": {},
     "output_type": "execute_result"
    }
   ],
   "source": [
    "# best hyperparameters \n",
    "tuning_model.best_params_"
   ]
  },
  {
   "cell_type": "markdown",
   "metadata": {},
   "source": [
    "# Using a Decision Tree Regressor with Optimal Parameters"
   ]
  },
  {
   "cell_type": "code",
   "execution_count": 34,
   "metadata": {},
   "outputs": [],
   "source": [
    "param_values = list((tuning_model.best_params_).values())"
   ]
  },
  {
   "cell_type": "code",
   "execution_count": 35,
   "metadata": {},
   "outputs": [],
   "source": [
    "# Traning model with all features using best Decision Tree Hyperparameters\n",
    "\n",
    "DtReg_Opt = DecisionTreeRegressor(max_depth=param_values[0],\n",
    "                                 max_features=param_values[1],\n",
    "                                 max_leaf_nodes=param_values[2],\n",
    "                                 min_samples_leaf=param_values[3],\n",
    "                                 min_weight_fraction_leaf=param_values[4],\n",
    "                                 splitter=param_values[5])\n",
    "\n",
    "DtReg_Opt.fit(X_train_scaled,y_train);"
   ]
  },
  {
   "cell_type": "code",
   "execution_count": 36,
   "metadata": {},
   "outputs": [],
   "source": [
    "cross_val_train = cross_val_score(DtReg_Opt, X_train_scaled, y_train, scoring=\"neg_root_mean_squared_error\",cv=40)\n",
    "cross_val_test = cross_val_score(DtReg_Opt, X_test_scaled, y_test, scoring=\"neg_root_mean_squared_error\",cv=40)"
   ]
  },
  {
   "cell_type": "code",
   "execution_count": 37,
   "metadata": {},
   "outputs": [],
   "source": [
    "#Train Results\n",
    "cross_val_train_mean = round(-(cross_val_train.mean()),2)\n",
    "cross_val_train_max = round(-(cross_val_train.min()),2)\n",
    "cross_val_train_min = round(-(cross_val_train.max()),2)\n",
    "\n",
    "#Test Results\n",
    "cross_val_test_mean = round(-(cross_val_test.mean()),2)\n",
    "cross_val_test_max = round(-(cross_val_test.min()),2)\n",
    "cross_val_test_min = round(-(cross_val_test.max()),2)\n",
    "\n",
    "#Creating a Dataframe to display Validation Results\n",
    "results = pd.DataFrame(columns=['Train/Test','Avg RMSE','Max RMSE','Min RMSE'])\n",
    "results.loc[0] = ['Train',cross_val_train_mean,cross_val_train_max,cross_val_train_min]\n",
    "results.loc[1] = ['Test', cross_val_test_mean, cross_val_test_max, cross_val_test_min]"
   ]
  },
  {
   "cell_type": "code",
   "execution_count": 38,
   "metadata": {
    "scrolled": true
   },
   "outputs": [
    {
     "data": {
      "image/png": "[encoded data removed]",
      "text/plain": [
       "<Figure size 1440x864 with 1 Axes>"
      ]
     },
     "metadata": {
      "needs_background": "light"
     },
     "output_type": "display_data"
    }
   ],
   "source": [
    "fig, ax = plt.subplots(figsize=(20,12))\n",
    "\n",
    "x_ticks = list(range(0,max([results.iloc[0][2],(round(results.iloc[1][2])+1000000)]),5000000))\n",
    "y_ticks = [1,2,3,4]\n",
    "y_labels = ['Train Max RMSE','Train Min RMSE','Test Max RMSE','Test Min RMSE']\n",
    "\n",
    "train_max_pos = 1\n",
    "train_max = results.iloc[0][2]\n",
    "ax.barh(train_max_pos,train_max,color='navy')\n",
    "\n",
    "train_min_pos = 2\n",
    "train_min = results.iloc[0][3]\n",
    "ax.barh(train_min_pos,train_min,color='navy')\n",
    "\n",
    "test_max_pos = 3\n",
    "test_max = results.iloc[1][2]\n",
    "ax.barh(test_max_pos,test_max,color='orange')\n",
    "\n",
    "test_min_pos = 4\n",
    "test_min = results.iloc[1][3]\n",
    "ax.barh(test_min_pos,test_min,color='orange')\n",
    "\n",
    "ax.axvline(x = results.iloc[0][1],label = 'Average Train RMSE',color='dodgerblue')\n",
    "ax.axvline(x = results.iloc[1][1],label = 'Average Test RMSE',color='red')\n",
    "\n",
    "ax.set_yticks(y_ticks)\n",
    "ax.set_yticklabels(y_labels)\n",
    "ax.set_xticks(x_ticks)\n",
    "ax.set_xticklabels([f'£ {a}' for a in x_ticks])\n",
    "ax.set_xlabel('Error Value in GBP (£)',fontsize=20)\n",
    "ax.set_ylabel('Validation Results',fontsize=20)\n",
    "ax.set_title('Comparing Train and Test RMSEs for Optimized Decision Tree Model',fontsize=30)\n",
    "ax.legend(fontsize=15);"
   ]
  }
 ],
 "metadata": {
  "kernelspec": {
   "display_name": "Python (learn-env)",
   "language": "python",
   "name": "learn-env"
  },
  "language_info": {
   "codemirror_mode": {
    "name": "ipython",
    "version": 3
   },
   "file_extension": ".py",
   "mimetype": "text/x-python",
   "name": "python",
   "nbconvert_exporter": "python",
   "pygments_lexer": "ipython3",
   "version": "3.8.5"
  }
 },
 "nbformat": 4,
 "nbformat_minor": 4
}
