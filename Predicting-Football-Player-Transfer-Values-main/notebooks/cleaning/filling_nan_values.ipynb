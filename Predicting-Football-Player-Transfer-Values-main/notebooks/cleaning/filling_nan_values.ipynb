{
 "cells": [
  {
   "cell_type": "code",
   "execution_count": 28,
   "metadata": {},
   "outputs": [
    {
     "data": {
      "text/html": [
       "<style>.container { width:90% !important; }</style>"
      ],
      "text/plain": [
       "<IPython.core.display.HTML object>"
      ]
     },
     "metadata": {},
     "output_type": "display_data"
    }
   ],
   "source": [
    "from IPython.core.display import display, HTML\n",
    "display(HTML(\"<style>.container { width:90% !important; }</style>\"))"
   ]
  },
  {
   "cell_type": "code",
   "execution_count": 29,
   "metadata": {},
   "outputs": [],
   "source": [
    "import numpy as np\n",
    "import statistics as stats\n",
    "import pandas as pd"
   ]
  },
  {
   "cell_type": "code",
   "execution_count": 30,
   "metadata": {},
   "outputs": [],
   "source": [
    "df = pd.read_excel('data/no_keepers.xlsx')"
   ]
  },
  {
   "cell_type": "markdown",
   "metadata": {},
   "source": [
    "# Function that replaces missing player data with their average performance from other seasons where data is available"
   ]
  },
  {
   "cell_type": "code",
   "execution_count": 31,
   "metadata": {},
   "outputs": [],
   "source": [
    "def avg_missing(df):\n",
    "    \n",
    "    df.fillna(\"Not Played\", inplace = True)\n",
    "    \n",
    "    df21 = df.iloc[:,9:143]\n",
    "    df20 = df.iloc[:,144:278]\n",
    "    df19 = df.iloc[:,279:413]\n",
    "    df18 = df.iloc[:,414:]\n",
    "    \n",
    "    for a in list(range(len(df))):\n",
    "        \n",
    "        #Fixing 2020-2021 missing values\n",
    "        for b in list(range(len(df21.columns))):\n",
    "        \n",
    "            if type(df21.iloc[:,b][a]) != float:\n",
    "\n",
    "                if type(df20.iloc[:,b][a]) != float and type(df19.iloc[:,b][a]) != float and type(df18.iloc[:,b][a]) == float:\n",
    "                    df21.iloc[:,b][a] = df18.iloc[:,b][a]\n",
    "\n",
    "                if type(df20.iloc[:,b][a]) != float and type(df19.iloc[:,b][a]) == float and type(df18.iloc[:,b][a]) != float:\n",
    "                    df21.iloc[:,b][a] = df19.iloc[:,b][a]\n",
    "\n",
    "                if type(df20.iloc[:,b][a]) == float and type(df19.iloc[:,b][a]) != float and type(df18.iloc[:,b][a]) != float:\n",
    "                    df21.iloc[:,b][a] = df20.iloc[:,b][a]\n",
    "\n",
    "                if type(df20.iloc[:,b][a]) != float and type(df19.iloc[:,b][a]) == float and type(df18.iloc[:,b][a]) == float:\n",
    "                    df21.iloc[:,b][a] = round(stats.mean([df19.iloc[:,b][a],df18.iloc[:,b][a]]),2)\n",
    "\n",
    "                if type(df20.iloc[:,b][a]) == float and type(df19.iloc[:,b][a]) == float and type(df18.iloc[:,b][a]) != float:\n",
    "                    df21.iloc[:,b][a] = round(stats.mean([df19.iloc[:,b][a],df20.iloc[:,b][a]]),2)\n",
    "\n",
    "                if type(df20.iloc[:,b][a]) == float and type(df19.iloc[:,b][a]) != float and type(df18.iloc[:,b][a]) == float:\n",
    "                    df21.iloc[:,b][a] = round(stats.mean([df18.iloc[:,b][a],df20.iloc[:,b][a]]),2)\n",
    "\n",
    "                if type(df20.iloc[:,b][a]) == float and type(df19.iloc[:,b][a]) == float and type(df18.iloc[:,b][a]) == float:\n",
    "                    df21.iloc[:,b][a] = round(stats.mean([df18.iloc[:,b][a],df19.iloc[:,b][a],df20.iloc[:,b][a]]),2)\n",
    "        \n",
    "    for a in list(range(len(df))):  \n",
    "        #Fixing 2019-2020 missing values\n",
    "        for b in list(range(len(df20.columns))):\n",
    "        \n",
    "            if type(df20.iloc[:,b][a]) != float:\n",
    "\n",
    "                if type(df21.iloc[:,b][a]) != float and type(df19.iloc[:,b][a]) != float and type(df18.iloc[:,b][a]) == float:\n",
    "                    df20.iloc[:,b][a] = df18.iloc[:,b][a]\n",
    "\n",
    "                if type(df21.iloc[:,b][a]) != float and type(df19.iloc[:,b][a]) == float and type(df18.iloc[:,b][a]) != float:\n",
    "                    df20.iloc[:,b][a] = df19.iloc[:,b][a]\n",
    "\n",
    "                if type(df21.iloc[:,b][a]) == float and type(df19.iloc[:,b][a]) != float and type(df18.iloc[:,b][a]) != float:\n",
    "                    df20.iloc[:,b][a] = df21.iloc[:,b][a]\n",
    "\n",
    "                if type(df21.iloc[:,b][a]) != float and type(df19.iloc[:,b][a]) == float and type(df18.iloc[:,b][a]) == float:\n",
    "                    df20.iloc[:,b][a] = round(stats.mean([df19.iloc[:,b][a],df18.iloc[:,b][a]]),2)\n",
    "\n",
    "                if type(df21.iloc[:,b][a]) == float and type(df19.iloc[:,b][a]) == float and type(df18.iloc[:,b][a]) != float:\n",
    "                    df20.iloc[:,b][a] = round(stats.mean([df19.iloc[:,b][a],df21.iloc[:,b][a]]),2)\n",
    "\n",
    "                if type(df21.iloc[:,b][a]) == float and type(df19.iloc[:,b][a]) != float and type(df18.iloc[:,b][a]) == float:\n",
    "                    df20.iloc[:,b][a] = round(stats.mean([df18.iloc[:,b][a],df21.iloc[:,b][a]]),2)\n",
    "\n",
    "                if type(df21.iloc[:,b][a]) == float and type(df19.iloc[:,b][a]) == float and type(df18.iloc[:,b][a]) == float:\n",
    "                    df20.iloc[:,b][a] = round(stats.mean([df18.iloc[:,b][a],df19.iloc[:,b][a],df21.iloc[:,b][a]]),2)\n",
    "\n",
    "    for a in list(range(len(df))):              \n",
    "        #Fixing 2018-2019 missing values\n",
    "        for b in list(range(len(df19.columns))):\n",
    "        \n",
    "            if type(df19.iloc[:,b][a]) != float:\n",
    "\n",
    "                if type(df21.iloc[:,b][a]) != float and type(df20.iloc[:,b][a]) != float and type(df18.iloc[:,b][a]) == float:\n",
    "                    df19.iloc[:,b][a] = df18.iloc[:,b][a]\n",
    "\n",
    "                if type(df21.iloc[:,b][a]) != float and type(df20.iloc[:,b][a]) == float and type(df18.iloc[:,b][a]) != float:\n",
    "                    df19.iloc[:,b][a] = df20.iloc[:,b][a]\n",
    "\n",
    "                if type(df21.iloc[:,b][a]) == float and type(df20.iloc[:,b][a]) != float and type(df18.iloc[:,b][a]) != float:\n",
    "                    df19.iloc[:,b][a] = df21.iloc[:,b][a]\n",
    "\n",
    "                if type(df21.iloc[:,b][a]) != float and type(df20.iloc[:,b][a]) == float and type(df18.iloc[:,b][a]) == float:\n",
    "                    df19.iloc[:,b][a] = round(stats.mean([df20.iloc[:,b][a],df18.iloc[:,b][a]]),2)\n",
    "\n",
    "                if type(df21.iloc[:,b][a]) == float and type(df20.iloc[:,b][a]) == float and type(df18.iloc[:,b][a]) != float:\n",
    "                    df19.iloc[:,b][a] = round(stats.mean([df20.iloc[:,b][a],df21.iloc[:,b][a]]),2)\n",
    "\n",
    "                if type(df21.iloc[:,b][a]) == float and type(df20.iloc[:,b][a]) != float and type(df18.iloc[:,b][a]) == float:\n",
    "                    df19.iloc[:,b][a] = round(stats.mean([df18.iloc[:,b][a],df21.iloc[:,b][a]]),2)\n",
    "\n",
    "                if type(df21.iloc[:,b][a]) == float and type(df20.iloc[:,b][a]) == float and type(df18.iloc[:,b][a]) == float:\n",
    "                    df19.iloc[:,b][a] = round(stats.mean([df18.iloc[:,b][a],df20.iloc[:,b][a],df21.iloc[:,b][a]]),2)\n",
    "                    \n",
    "    for a in list(range(len(df))):\n",
    "        #Fixing 2017-2018 missing values            \n",
    "        for b in list(range(len(df18.columns))):\n",
    "\n",
    "            if type(df18.iloc[:,b][a]) != float:\n",
    "\n",
    "                if type(df21.iloc[:,b][a]) != float and type(df20.iloc[:,b][a]) != float and type(df19.iloc[:,b][a]) == float:\n",
    "                    df18.iloc[:,b][a] = df19.iloc[:,b][a]\n",
    "\n",
    "                if type(df21.iloc[:,b][a]) != float and type(df20.iloc[:,b][a]) == float and type(df19.iloc[:,b][a]) != float:\n",
    "                    df18.iloc[:,b][a] = df20.iloc[:,b][a]\n",
    "\n",
    "                if type(df21.iloc[:,b][a]) == float and type(df20.iloc[:,b][a]) != float and type(df19.iloc[:,b][a]) != float:\n",
    "                    df18.iloc[:,b][a] = df21.iloc[:,b][a]\n",
    "\n",
    "                if type(df21.iloc[:,b][a]) != float and type(df20.iloc[:,b][a]) == float and type(df19.iloc[:,b][a]) == float:\n",
    "                    df18.iloc[:,b][a] = round(stats.mean([df20.iloc[:,b][a],df19.iloc[:,b][a]]),2)\n",
    "\n",
    "                if type(df21.iloc[:,b][a]) == float and type(df20.iloc[:,b][a]) == float and type(df19.iloc[:,b][a]) != float:\n",
    "                    df18.iloc[:,b][a] = round(stats.mean([df20.iloc[:,b][a],df21.iloc[:,b][a]]),2)\n",
    "\n",
    "                if type(df21.iloc[:,b][a]) == float and type(df20.iloc[:,b][a]) != float and type(df19.iloc[:,b][a]) == float:\n",
    "                    df18.iloc[:,b][a] = round(stats.mean([df19.iloc[:,b][a],df21.iloc[:,b][a]]),2)\n",
    "\n",
    "                if type(df21.iloc[:,b][a]) == float and type(df20.iloc[:,b][a]) == float and type(df19.iloc[:,b][a]) == float:\n",
    "                    df18.iloc[:,b][a] = round(stats.mean([df19.iloc[:,b][a],df20.iloc[:,b][a],df21.iloc[:,b][a]]),2)\n",
    "\n",
    "    #Appending average filled missing data to final dataset               \n",
    "    df_tm = df.iloc[:,:8]\n",
    "\n",
    "    final = pd.concat([df_tm,df21,df20,df19,df18],axis=1)\n",
    "\n",
    "    final = final.replace('Not Played', np.nan)\n",
    "    \n",
    "    final = final.dropna()\n",
    "    \n",
    "    return final"
   ]
  },
  {
   "cell_type": "code",
   "execution_count": 32,
   "metadata": {},
   "outputs": [],
   "source": [
    "no_nan_df = avg_missing(df)"
   ]
  },
  {
   "cell_type": "code",
   "execution_count": null,
   "metadata": {},
   "outputs": [],
   "source": [
    "# Install gitpath below if not already available on your environment.\n",
    "#! pip install git+https://github.com/maxnoe/python-gitpath\n",
    "import gitpath\n",
    "\n",
    "#Getting the file path for the data file.\n",
    "file_path = str(gitpath.root()) + 'data/no_nans_data.xlsx'"
   ]
  },
  {
   "cell_type": "code",
   "execution_count": null,
   "metadata": {},
   "outputs": [],
   "source": [
    "no_nan_df.to_excel(file_path,index=False)"
   ]
  }
 ],
 "metadata": {
  "kernelspec": {
   "display_name": "Python 3",
   "language": "python",
   "name": "python3"
  },
  "language_info": {
   "codemirror_mode": {
    "name": "ipython",
    "version": 3
   },
   "file_extension": ".py",
   "mimetype": "text/x-python",
   "name": "python",
   "nbconvert_exporter": "python",
   "pygments_lexer": "ipython3",
   "version": "3.8.5"
  }
 },
 "nbformat": 4,
 "nbformat_minor": 4
}
